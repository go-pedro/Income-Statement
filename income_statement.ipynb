{
 "cells": [
  {
   "attachments": {},
   "cell_type": "markdown",
   "metadata": {},
   "source": [
    "## How to Read (and Understand) an Income Statement\n",
    "By Bryce Warnes, Fact-Checked by Janet Berry-Johnson, CPA on April 6, 2022\n",
    "\n",
    "Learn how to read income statements, and you’ll unlock the ability to understand your finances.\n",
    "Sure, a glance at your income statement may tell you how much you’ve spent in a certain period of time, and how much your business has made. But once you learn how all the different line items interact, and what they mean for your company’s financial performance, you’ll be better able to troubleshoot, fine tune, and plan your day-to-day operations.\n",
    "\n",
    "### A short refresher on income statements\n",
    "An income statement (also called a profit and loss statement, or P&L) summarizes your financial transactions, then shows you how much you earned and how much you spent for a specific reporting period. In this guide we’ll use annual reports as examples, but you can prepare income statements quarterly or monthly as well.\n",
    "\n",
    "Along with balance sheets and cash flow statements, income statements are one of the three financial statements essential for measuring your company’s performance.\n",
    "\n",
    "If you’re unclear on how income statements work, and how you get them, take ten minutes to read through our comprehensive guide to income statements. Then jump back to this article to learn how to interpret them.\n",
    "\n",
    "### How the income statement and other financial statements work together\n",
    "\n",
    "Your income statements are most powerful when used in tandem with your balance sheet and cash flow statements.\n",
    "\n",
    "A balance sheet tells you everything your business is holding on to at a particular point in time—your assets and liabilities. The balance sheet tells you where you are, while the income statement tells you how you got there.\n",
    "\n",
    "A cash flow statement tells you how much cash you have on hand and where it came from. This is essential if you use the accrual basis of accounting. Under that system, you may have recorded income in accounts receivable—for instance, as an invoice you’ve sent to a client—before you’ve actually received the payment. That’s good for planning future income, but not good for knowing how much cash you have to work with. The cash flow statement gives you a clear view of what you have to spend right now.\n",
    "\n",
    "By reading and analyzing all three financial statements, you’ll get a full picture of your company’s financial performance—so you can plan for growth, and avoid financial pitfalls.\n",
    "\n",
    "### Parts of an income statement\n",
    "\n",
    "Your income statement is broken down into different line items. Some of those line items can be grouped together into categories, while others stand alone as categories of their own.\n",
    "\n",
    "Your income statement follows a linear path, from top line to bottom line. Think of the top line as a “rough draft” of the money you’ve made—your total revenue, before taking into account any expenses—and your bottom line as a “final draft”—the profit you earned after taking account of all expenses.\n",
    "\n",
    "We’ll use a multi-step income statement as an example. Multi-step income statements are one of three types of income statement.\n",
    "\n",
    "\n",
    "#### Income Statement Example\n",
    "Coffee Roaster Enterprises Inc\n",
    "\n",
    "Income Statement for Year Ended Dec. 31, 2018\n",
    "\n",
    "| Category                   | Amount     |\n",
    "|----------------------------|------------|\n",
    "| Total Revenue              | $57,050.68 |\n",
    "| Cost of Goods Sold (COGS)  | $24,984.79 |\n",
    "| Gross Profit               | $32,065.89 |\n",
    "|                            |            |\n",
    "| General Expenses           | $11,049.55 |\n",
    "| *Rent                      | $9,000.00  |\n",
    "| *Bank & ATM Fee Expenses   | $9.43      |\n",
    "| *Equipment Expenses        | $742.40    |\n",
    "| *Marketing Expenses        | $503.53    |\n",
    "| *Merchant Fees Expenses    | $794.19    |\n",
    "|                            |            |\n",
    "| Operating Income           | $21,016.34 |\n",
    "| Interest Expense           | $5,000.00  |\n",
    "| Earnings Before Income Tax | $16,016.34 |\n",
    "| Income Tax Expense         | $10,000.00 |\n",
    "| Net Income                 | $6,016.34  |\n"
   ]
  },
  {
   "attachments": {},
   "cell_type": "markdown",
   "metadata": {},
   "source": [
    "### Total Revenue (aka Total Sales, Sales Revenue, Gross Revenue)\n",
    "\n",
    "Your total revenue is all the money that has come into your business. As you move down your income statement, you’ll see that amount chipped away, used to pay for the cost of creating your products or services and keeping your company running.\n",
    "\n",
    "This is the top line of your income statement. A lot of business owners focus their attention on the bottom line—their net profit. But your sales revenue is important, too. There’s only so much you can do to improve your bottom line by cutting expenses. At some point, you’ll hit a ceiling, and the only way to grow the bottom line is to grow your revenue.\n",
    "\n",
    "You’ll look at your revenue later when it’s time to determine your profit margin—the relationship between how much you spend versus how much you earn.\n",
    "\n",
    "### COGS (Cost of Goods Sold, aka Cost of Sales)\n",
    "COGS is the price you pay to create your products or services. COGS consists of direct expenses. In manufacturing, it’s the price of raw products plus labor. In retail, the total wholesale price of the products you sell. In the service industry, it’s the cost of paying wages and providing the supplies you need to perform those services.\n",
    "\n",
    "Some depreciation expenses also get rolled into this line item. So if you spend a large amount of money on an essential piece of equipment, and you’re depreciating part of its value every accounting period, it will increase your COGS.\n",
    "\n",
    "### Gross Profit\n",
    "\n",
    "Once you take your total revenue and subtract your COGS, you get your gross profit. It’s the amount you take home before taking into account other, indirect expenses.\n",
    "\n",
    "Your gross profit significantly contributes to your net income. When you buckle down and decide to grow your bottom line, the first place you’ll look to make improvements is with your gross profit. There are only two ways to increase your gross profit: To increase the amount your customers or clients pay, or to decrease the amount of COGS you pay. The relationship between these factors is called your gross margin—we’ll cover that shortly.\n",
    "\n",
    "\n",
    "\n",
    "\n"
   ]
  },
  {
   "attachments": {},
   "cell_type": "markdown",
   "metadata": {},
   "source": [
    "### General Expenses (aka Selling, General, and Administrative Expenses, or SG&A)\n",
    "\n",
    "Operating expenses are the indirect costs associated with your business. Some of these are fixed expenses—they’re the same every reporting period. Others are variable expenses—they change from one period to the next.\n",
    "\n",
    "Likewise, some are part of overhead—the amount you pay every month just to stay in business, regardless of sales, such as rent. Other operating expenses are operating costs—they increase in tandem with the amount of sales you make.\n",
    "\n",
    "If you’re trying to cut costs and grow the bottom line, general expenses are the second place you look, after COGS. Simple measures such as making sure you use utilities efficiently, getting a better bang for your buck by using effective marketing, or reducing wear and tear on equipment that requires maintenance: All of these are ways to reduce your SG&A.\n",
    "\n",
    "### Operating Income\n",
    "\n",
    "When you subtract general expenses from your gross profit, you get your operating income. This is your income after taking into account all of your expenses, not including non-operating expenses—interest payments and taxes. Accountants and financial analysts usually prefer to look at your operating income—rather than your net income—to determine how profitable your company is.\n",
    "\n",
    "In their eyes, money you save with the help of an accountant—by reducing your tax burden, or helping you pay lower interest on debt—is separate from money you save by operating your business day-to-day. Any money saved in that way will impact your income tax and interest payments—neither of which are included when calculating operating income.\n",
    "\n",
    "Think of it in terms of job roles. You, or the managers at your company, are in charge of dealing with total revenue, COGS, and general expenses. Your accountant is responsible for managing your tax burden and your company debt. Day-to-day activities affect operating income. Tax returns and loan agreements do not.\n",
    "\n",
    "### Net Income (aka Net Sales, or the bottom line)\n",
    "\n",
    "Subtract the cost of interest payments and income tax from your operating income, and you get the bottom line. This is how much money your company brought in for the period of time your income report covers.\n",
    "\n",
    "If your total expenses outweigh your revenue, your net income will be in the negative. That means you’re operating at a net loss. For lean startups still fine-tuning their technology and attracting venture capital, temporarily operating at a loss may not be a bad thing. For just about everyone else, it is.\n",
    "\n",
    "Your mission as a business owner is to keep your bottom line in the black.\n",
    "\n"
   ]
  },
  {
   "attachments": {},
   "cell_type": "markdown",
   "metadata": {},
   "source": [
    "### Calculating profit margins\n",
    "\n",
    "If all these line items have your head spinning, have no fear: Profit margins are here to save you.\n",
    "\n",
    "When you calculate profit margins, you distill information from your income statement into percentages. A profit margin shows you the relationship between how much you spend, and how much you make, so you get a bird’s-eye-view of your company’s financial performance. Lenders and investors look at your profit margins to see how profitable your company is, and decide whether to give you money.\n",
    "\n",
    "We’ll look at the three most important margins for any business: The gross profit margin, the operating profit margin, and the net profit margin.\n",
    "\n",
    "For a deeper dive, our intro to profit margins is a must-read.\n",
    "\n",
    "### Gross profit margin\n",
    "\n",
    "The formula for gross profit margin is:\n",
    "\n",
    "$$ Gross Profit Margin = (Total Revenue – COGS) / Total Revenue $$\n",
    "\n",
    "Your gross profit margin tells you how much income your company makes for each dollar it earns, after taking into account COGS.\n",
    "\n",
    "Using our example statement from above:"
   ]
  },
  {
   "cell_type": "code",
   "execution_count": 21,
   "metadata": {},
   "outputs": [
    {
     "data": {
      "text/plain": [
       "56.2"
      ]
     },
     "execution_count": 21,
     "metadata": {},
     "output_type": "execute_result"
    }
   ],
   "source": [
    "#Gross profit margin\n",
    "#Gross Profit Margin = (Total Revenue – COGS) / Total Revenue\n",
    "GPM=(57050.68-24984.79)/57050.68\n",
    "GPM=round(GPM*100,1)\n",
    "GPM\n"
   ]
  },
  {
   "attachments": {},
   "cell_type": "markdown",
   "metadata": {},
   "source": [
    "So, for every dollar of revenue, Coffee Roaster Enterprises Inc. keeps $0.56.\n",
    "\n",
    "Keep in mind, this is a gross profit margin—it doesn’t take into account general expenses, interest payments, or income tax."
   ]
  },
  {
   "cell_type": "code",
   "execution_count": 19,
   "metadata": {},
   "outputs": [
    {
     "data": {
      "text/plain": [
       "21016.34"
      ]
     },
     "execution_count": 19,
     "metadata": {},
     "output_type": "execute_result"
    }
   ],
   "source": [
    "#Operating profit margin\n",
    "#Operating Profit Margin = Operating Income / Total Revenue\n",
    "\n",
    "32065.89-11049.55"
   ]
  },
  {
   "cell_type": "code",
   "execution_count": 18,
   "metadata": {},
   "outputs": [
    {
     "ename": "SyntaxError",
     "evalue": "cannot assign to operator (3139536357.py, line 1)",
     "output_type": "error",
     "traceback": [
      "\u001b[1;36m  Input \u001b[1;32mIn [18]\u001b[1;36m\u001b[0m\n\u001b[1;33m    9000.00+9.43+742.40+503.53+794.19=11049.550000000\u001b[0m\n\u001b[1;37m    ^\u001b[0m\n\u001b[1;31mSyntaxError\u001b[0m\u001b[1;31m:\u001b[0m cannot assign to operator\n"
     ]
    }
   ],
   "source": [
    "9000.00+9.43+742.40+503.53+794.19=11049.550000000\n"
   ]
  }
 ],
 "metadata": {
  "kernelspec": {
   "display_name": "Python 3",
   "language": "python",
   "name": "python3"
  },
  "language_info": {
   "codemirror_mode": {
    "name": "ipython",
    "version": 3
   },
   "file_extension": ".py",
   "mimetype": "text/x-python",
   "name": "python",
   "nbconvert_exporter": "python",
   "pygments_lexer": "ipython3",
   "version": "3.9.5"
  },
  "orig_nbformat": 4
 },
 "nbformat": 4,
 "nbformat_minor": 2
}
