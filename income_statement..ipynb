{
 "cells": [
  {
   "attachments": {},
   "cell_type": "markdown",
   "metadata": {},
   "source": [
    "## How to Read (and Understand) an Income Statement\n",
    "By Bryce Warnes, Fact-Checked by Janet Berry-Johnson, CPA on April 6, 2022\n",
    "\n",
    "Learn how to read income statements, and you’ll unlock the ability to understand your finances.\n",
    "Sure, a glance at your income statement may tell you how much you’ve spent in a certain period of time, and how much your business has made. But once you learn how all the different line items interact, and what they mean for your company’s financial performance, you’ll be better able to troubleshoot, fine tune, and plan your day-to-day operations.\n",
    "\n",
    "### A short refresher on income statements\n",
    "An income statement (also called a profit and loss statement, or P&L) summarizes your financial transactions, then shows you how much you earned and how much you spent for a specific reporting period. In this guide we’ll use annual reports as examples, but you can prepare income statements quarterly or monthly as well.\n",
    "\n",
    "Along with balance sheets and cash flow statements, income statements are one of the three financial statements essential for measuring your company’s performance.\n",
    "\n",
    "If you’re unclear on how income statements work, and how you get them, take ten minutes to read through our comprehensive guide to income statements. Then jump back to this article to learn how to interpret them.\n",
    "\n",
    "### How the income statement and other financial statements work together\n",
    "\n",
    "Your income statements are most powerful when used in tandem with your balance sheet and cash flow statements.\n",
    "\n",
    "A balance sheet tells you everything your business is holding on to at a particular point in time—your assets and liabilities. The balance sheet tells you where you are, while the income statement tells you how you got there.\n",
    "\n",
    "A cash flow statement tells you how much cash you have on hand and where it came from. This is essential if you use the accrual basis of accounting. Under that system, you may have recorded income in accounts receivable—for instance, as an invoice you’ve sent to a client—before you’ve actually received the payment. That’s good for planning future income, but not good for knowing how much cash you have to work with. The cash flow statement gives you a clear view of what you have to spend right now.\n",
    "\n",
    "By reading and analyzing all three financial statements, you’ll get a full picture of your company’s financial performance—so you can plan for growth, and avoid financial pitfalls.\n",
    "\n",
    "### Parts of an income statement\n",
    "\n",
    "Your income statement is broken down into different line items. Some of those line items can be grouped together into categories, while others stand alone as categories of their own.\n",
    "\n",
    "Your income statement follows a linear path, from top line to bottom line. Think of the top line as a “rough draft” of the money you’ve made—your total revenue, before taking into account any expenses—and your bottom line as a “final draft”—the profit you earned after taking account of all expenses.\n",
    "\n",
    "We’ll use a multi-step income statement as an example. Multi-step income statements are one of three types of income statement.\n",
    "\n",
    "\n",
    "#### Income Statement Example\n",
    "Coffee Roaster Enterprises Inc\n",
    "\n",
    "Income Statement for Year Ended Dec. 31, 2018\n",
    "\n",
    "\n",
    "\n",
    "\n"
   ]
  },
  {
   "cell_type": "markdown",
   "metadata": {},
   "source": []
  }
 ],
 "metadata": {
  "language_info": {
   "name": "python"
  },
  "orig_nbformat": 4
 },
 "nbformat": 4,
 "nbformat_minor": 2
}
